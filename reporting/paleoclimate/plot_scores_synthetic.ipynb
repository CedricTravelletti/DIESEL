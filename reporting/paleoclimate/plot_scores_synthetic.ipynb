{
 "cells": [
  {
   "cell_type": "markdown",
   "id": "a9a55753",
   "metadata": {},
   "source": [
    "# Plot results of the synthetic test case."
   ]
  },
  {
   "cell_type": "code",
   "execution_count": null,
   "id": "79367852",
   "metadata": {},
   "outputs": [],
   "source": [
    "%load_ext autoreload\n",
    "%autoreload 2\n",
    "\n",
    "import os\n",
    "import numpy as np\n",
    "import matplotlib.pyplot as plt\n",
    "import dask\n",
    "import pandas as pd\n",
    "import dask.array as da\n",
    "import xarray as xr\n",
    "from climate.utils import load_dataset\n",
    "\n",
    "from dask.distributed import Client, LocalCluster, wait, progress                             \n",
    "import diesel as ds                                                             \n",
    "from diesel.scoring import compute_RE_score, compute_CRPS, compute_energy_score, compute_RMSE \n",
    "from diesel.estimation import localize_covariance "
   ]
  },
  {
   "cell_type": "code",
   "execution_count": null,
   "id": "e304eba3",
   "metadata": {},
   "outputs": [],
   "source": [
    "# base_folder = \"/storage/homefs/ct19x463/Dev/Climate/Data/\"\n",
    "base_folder = \"/home/cedric/PHD/Dev/Climate/Data/\"\n",
    "\n",
    "# results_folder = \"/storage/homefs/ct19x463/Dev/DIESEL/reporting/toy_example/results_paper/synthetic/\"\n",
    "results_folder = \"/home/cedric/PHD/Dev/DIESEL/reporting/paleoclimate/results/synthetic/\"\n",
    "plots_folder = \"/home/cedric/PHD/Dev/DIESEL/reporting/paleoclimate/results/plots_synthetic/\""
   ]
  },
  {
   "cell_type": "code",
   "execution_count": null,
   "id": "6c2aeb5c",
   "metadata": {},
   "outputs": [],
   "source": [
    "cluster = LocalCluster()\n",
    "client = Client(cluster)"
   ]
  },
  {
   "cell_type": "markdown",
   "id": "5c94cc8c",
   "metadata": {},
   "source": [
    "## Define colors manually."
   ]
  },
  {
   "cell_type": "code",
   "execution_count": null,
   "id": "5b35d357",
   "metadata": {},
   "outputs": [],
   "source": [
    "import matplotlib.pyplot as plt\n",
    "import seaborn as sns\n",
    "\n",
    "sns.set()\n",
    "sns.set_style(\"white\")\n",
    "plt.rcParams[\"font.family\"] = \"serif\"\n",
    "plot_params = {\n",
    "        'font.size': 32, 'font.style': 'normal',\n",
    "        'axes.labelsize': 'x-small',\n",
    "        'axes.titlesize':'x-small',\n",
    "        'legend.fontsize': 'x-small',\n",
    "        'xtick.labelsize': 'x-small',\n",
    "        'ytick.labelsize': 'x-small'\n",
    "        }\n",
    "plt.rcParams.update(plot_params)\n",
    "\n",
    "my_palette = sns.color_palette(\"twilight_shifted_r\", 10)\n",
    "my_palette_r = reversed(sns.color_palette(\"twilight_shifted_r\", 3))\n",
    "my_palette[6]"
   ]
  },
  {
   "cell_type": "code",
   "execution_count": null,
   "id": "fd6a91c3-4b48-485a-a1da-a0935b7d8528",
   "metadata": {},
   "outputs": [],
   "source": [
    "color_aao, color_seq, color_prior = (0.4981443546207415, 0.13569380302451714, 0.314135190862664), (0.7387914002459927, 0.4205367299231533, 0.34913260148542435), (0.8398783988412087, 0.7603990719977968, 0.7136714781112923)\n",
    "color_true_cov = my_palette[6]"
   ]
  },
  {
   "cell_type": "markdown",
   "id": "139b71a2-1f79-4923-9957-f7144f34539e",
   "metadata": {},
   "source": [
    "# Synthetic."
   ]
  },
  {
   "cell_type": "code",
   "execution_count": null,
   "id": "16f5e135",
   "metadata": {},
   "outputs": [],
   "source": [
    "df_scores_synth = pd.read_pickle(os.path.join(results_folder, \"scores.pkl\"))"
   ]
  },
  {
   "cell_type": "code",
   "execution_count": null,
   "id": "862cac7b",
   "metadata": {},
   "outputs": [],
   "source": [
    "df_melted_synth = pd.melt(df_scores_synth, value_vars=df_scores_synth.columns, var_name=\"metric\", value_name=\"loss\")\n",
    "df_melted_synth['experiment'] = df_melted_synth['metric']\n",
    "\n",
    "df_melted_synth.loc[df_melted_synth['experiment'].str.contains(\"prior\"), 'experiment'] = 'Prior'\n",
    "df_melted_synth.loc[df_melted_synth['experiment'].str.contains(\"aao loc\"), 'experiment'] = 'All-at-once'\n",
    "df_melted_synth.loc[df_melted_synth['experiment'].str.contains(\"seq loc\"), 'experiment'] = 'Sequential'\n",
    "df_melted_synth.loc[df_melted_synth['experiment'].str.contains(\"truecov\"), 'experiment'] = 'True covariance'\n",
    "\n",
    "df_melted_synth.loc[df_melted_synth['metric'].str.contains(\"RMSE\"), 'metric'] = 'RMSE'\n",
    "df_melted_synth.loc[df_melted_synth['metric'].str.contains(\"ES\"), 'metric'] = 'ES'\n",
    "df_melted_synth.loc[df_melted_synth['metric'].str.contains(\"RE\"), 'metric'] = 'RE'"
   ]
  },
  {
   "cell_type": "code",
   "execution_count": null,
   "id": "6e1bd699",
   "metadata": {},
   "outputs": [],
   "source": [
    "plt.figure(figsize=(10,6))\n",
    "ax = sns.boxplot(x=\"experiment\", y=\"loss\",\n",
    "                 data=df_melted_synth.loc[\n",
    "                     (df_melted_synth['metric'] == 'RMSE') & (df_melted_synth['experiment'] != 'Prior')\n",
    "                    ], linewidth=2.5,\n",
    "                order=['Sequential', 'All-at-once', 'True covariance'],\n",
    "                palette=[color_seq, color_aao, color_true_cov])\n",
    "ax.set_ylabel('RMSE')\n",
    "ax.set_xlabel('')\n",
    "# ax.set_ylim([0, 1.5])\n",
    "plt.savefig(os.path.join(plots_folder, 'scores_RMSE'), bbox_inches='tight', dpi=200)"
   ]
  },
  {
   "cell_type": "code",
   "execution_count": null,
   "id": "0b2598d3",
   "metadata": {},
   "outputs": [],
   "source": [
    "plt.figure(figsize=(10,6))\n",
    "ax = sns.boxplot(x=\"experiment\", y=\"loss\",\n",
    "                 data=df_melted_synth.loc[\n",
    "                     (df_melted_synth['metric'] == 'ES') & (df_melted_synth['experiment'] != 'Prior')\n",
    "                      ], linewidth=2.5,\n",
    "                order=['Sequential', 'All-at-once', 'True covariance'],\n",
    "                palette=[color_seq, color_aao, color_true_cov])\n",
    "ax.set_ylabel('Energy Score')\n",
    "ax.set_xlabel('')\n",
    "# ax.set_ylim([100, 200])\n",
    "plt.savefig(os.path.join(plots_folder, 'scores_ES'), bbox_inches='tight', dpi=200)"
   ]
  },
  {
   "cell_type": "code",
   "execution_count": null,
   "id": "f856a660",
   "metadata": {},
   "outputs": [],
   "source": [
    "plt.figure(figsize=(10,6))\n",
    "# df_melted_mod_n400 = pd.concat([pd.DataFrame({'metric': ['RE'], 'loss': [np.nan], 'experiment': ['Prior']}), df_melted_n400], axis=0)\n",
    "\n",
    "ax = sns.boxplot(x=\"experiment\", y=\"loss\",\n",
    "                 data=df_melted_synth.loc[\n",
    "                     (df_melted_synth['metric'] == 'RE') & (df_melted_synth['experiment'] != 'Prior')\n",
    "                 ], linewidth=2.5,\n",
    "                order=['Sequential', 'All-at-once', 'True covariance'],\n",
    "                palette=[color_seq, color_aao, color_true_cov])\n",
    "ax.set_ylabel('RMSE Skill Score')\n",
    "ax.set_xlabel('')\n",
    "plt.savefig(os.path.join(plots_folder, 'scores_RE'), bbox_inches='tight', dpi=200)"
   ]
  },
  {
   "cell_type": "markdown",
   "id": "4a9d9927",
   "metadata": {},
   "source": [
    "## Ordering"
   ]
  },
  {
   "cell_type": "code",
   "execution_count": null,
   "id": "61661896",
   "metadata": {},
   "outputs": [],
   "source": [
    "df_scores_order = pd.read_pickle(os.path.join(results_folder, \"synthetic_ordering/scores.pkl\"))             \n",
    "\n",
    "df_melted_order = pd.melt(df_scores_order, value_vars=df_scores_order.columns, var_name=\"metric\", value_name=\"loss\",)\n",
    "df_melted_order['experiment'] = df_melted_order['metric']\n",
    "\n",
    "df_melted_order.loc[df_melted_order['experiment'].str.contains(\"prior\"), 'experiment'] = 'Prior'\n",
    "df_melted_order.loc[df_melted_order['experiment'].str.contains(\"aao loc\"), 'experiment'] = 'All-at-once'\n",
    "df_melted_order.loc[df_melted_order['experiment'].str.contains(\"seq loc\"), 'experiment'] = 'Sequential'\n",
    "df_melted_order.loc[df_melted_order['experiment'].str.contains(\"truecov\"), 'experiment'] = 'True covariance'\n",
    "\n",
    "df_melted_order.loc[df_melted_order['metric'].str.contains(\"RMSE\"), 'metric'] = 'RMSE'\n",
    "df_melted_order.loc[df_melted_order['metric'].str.contains(\"ES\"), 'metric'] = 'ES'\n",
    "df_melted_order.loc[df_melted_order['metric'].str.contains(\"RE\"), 'metric'] = 'RE'"
   ]
  },
  {
   "cell_type": "code",
   "execution_count": null,
   "id": "3d19db2c",
   "metadata": {},
   "outputs": [],
   "source": [
    "plt.figure(figsize=(10,6))\n",
    "ax = sns.boxplot(x=\"experiment\", y=\"loss\",\n",
    "                 data=df_melted_order.loc[\n",
    "                     (df_melted_order['metric'] == 'ES') & (df_melted_order['experiment'] != 'Prior')\n",
    "                      ], linewidth=2.5,\n",
    "                palette=[color_seq, color_aao])\n",
    "ax.set_ylabel('Energy Score')\n",
    "ax.set_xlabel('')\n",
    "# ax.set_ylim([100, 210])\n",
    "plt.savefig(os.path.join(plots_folder, 'scores_ES_ordering'), bbox_inches='tight', dpi=200)"
   ]
  },
  {
   "cell_type": "code",
   "execution_count": null,
   "id": "2acd1394",
   "metadata": {},
   "outputs": [],
   "source": [
    "plt.figure(figsize=(10,6))\n",
    "ax = sns.boxplot(x=\"experiment\", y=\"loss\",\n",
    "                 data=df_melted_order.loc[\n",
    "                     (df_melted_order['metric'] == 'RMSE') & (df_melted_order['experiment'] != 'Prior')\n",
    "                    ], linewidth=2.5,\n",
    "                palette=[color_seq, color_aao])\n",
    "ax.set_ylabel('RMSE')\n",
    "ax.set_xlabel('')\n",
    "# ax.set_ylim([1, 4])\n",
    "plt.savefig(os.path.join(plots_folder, 'scores_RMSE_ordering'), bbox_inches='tight', dpi=200)"
   ]
  },
  {
   "cell_type": "code",
   "execution_count": null,
   "id": "c6a90a64",
   "metadata": {},
   "outputs": [],
   "source": [
    "plt.figure(figsize=(10,6))\n",
    "# df_melted_mod_n400 = pd.concat([pd.DataFrame({'metric': ['RE'], 'loss': [np.nan], 'experiment': ['Prior']}), df_melted_n400], axis=0)\n",
    "\n",
    "ax = sns.boxplot(x=\"experiment\", y=\"loss\",\n",
    "                 data=df_melted_order[df_melted_order['metric'] == 'RE'], linewidth=2.5,\n",
    "                palette=[color_seq, color_aao])\n",
    "ax.set_ylabel('RMSE Skill Score')\n",
    "ax.set_xlabel('')\n",
    "plt.savefig(os.path.join(plots_folder, 'scores_RE_ordering'), bbox_inches='tight', dpi=200)"
   ]
  },
  {
   "cell_type": "markdown",
   "id": "60afae38-ce92-46a9-8270-8ab0a6421cdd",
   "metadata": {},
   "source": [
    "## Plot evolution."
   ]
  },
  {
   "cell_type": "code",
   "execution_count": null,
   "id": "225a4973-fb33-4e65-a4b9-6b4ef5d4e18b",
   "metadata": {},
   "outputs": [],
   "source": [
    "results_evolution_folder = \"/home/cedric/PHD/Dev/DIESEL/reporting/toy_example/results_paper/synthetic_different_noise/\"\n",
    "df_evolution = pd.read_pickle(os.path.join(results_evolution_folder, \"scores_merged.pkl\"))"
   ]
  },
  {
   "cell_type": "code",
   "execution_count": null,
   "id": "295ebae2-2fbe-4d30-ad5a-2a3d58aa9d03",
   "metadata": {},
   "outputs": [],
   "source": [
    "df_evolution['data std'] = 100 * df_evolution['data std']\n",
    "df_evolution_melted = pd.melt(df_evolution, value_vars=df_evolution.columns, var_name=\"metric\", value_name=\"loss\", id_vars=['data std', 'repetition'])\n",
    "df_evolution_melted['experiment'] = df_evolution_melted['metric']\n",
    "\n",
    "df_evolution_melted.loc[df_evolution_melted['experiment'].str.contains(\"prior\"), 'experiment'] = 'Prior'\n",
    "df_evolution_melted.loc[df_evolution_melted['experiment'].str.contains(\"aao loc\"), 'experiment'] = 'All-at-once'\n",
    "df_evolution_melted.loc[df_evolution_melted['experiment'].str.contains(\"seq loc\"), 'experiment'] = 'Sequential'\n",
    "df_evolution_melted.loc[df_evolution_melted['experiment'].str.contains(\"truecov\"), 'experiment'] = 'True covariance'\n",
    "\n",
    "df_evolution_melted.loc[df_evolution_melted['metric'].str.contains(\"RMSE\"), 'metric'] = 'RMSE'\n",
    "df_evolution_melted.loc[df_evolution_melted['metric'].str.contains(\"ES\"), 'metric'] = 'ES'\n",
    "df_evolution_melted.loc[df_evolution_melted['metric'].str.contains(\"RE\"), 'metric'] = 'RE'"
   ]
  },
  {
   "cell_type": "code",
   "execution_count": null,
   "id": "c61b0511-d2b8-4206-b22b-a0daa821a0d4",
   "metadata": {},
   "outputs": [],
   "source": [
    "plt.figure(figsize=(10,6))\n",
    "ax = sns.lineplot(data=df_evolution_melted.loc[(df_evolution_melted['metric'] == 'RMSE') & (df_evolution_melted['experiment'] != 'True covariance')\n",
    "                                              & (df_evolution_melted['experiment'] != 'Prior')], x=\"data std\", y=\"loss\", hue='experiment',\n",
    "                 palette=[color_aao, color_seq])\n",
    "ax.set_ylabel('RMSE')\n",
    "ax.set_xlim([0, 50])\n",
    "ax.set_xlabel('Noise std [% of model std]')\n",
    "leg = plt.legend(fontsize='small', title_fontsize='10')\n",
    "\n",
    "# change the line width for the legend\n",
    "for line in leg.get_lines():\n",
    "    line.set_linewidth(6.0)\n",
    "    \n",
    "plt.savefig(os.path.join(plots_folder, 'scores_RMSE_evolution'), bbox_inches='tight', dpi=200)"
   ]
  },
  {
   "cell_type": "code",
   "execution_count": null,
   "id": "4d03d183-0fc3-4192-99c7-9843c9233bb1",
   "metadata": {},
   "outputs": [],
   "source": [
    "plt.figure(figsize=(10,6))\n",
    "ax = sns.lineplot(data=df_evolution_melted.loc[(df_evolution_melted['metric'] == 'ES') & (df_evolution_melted['experiment'] != 'True covariance')\n",
    "                                              & (df_evolution_melted['experiment'] != 'Prior')], x=\"data std\", y=\"loss\", hue='experiment',\n",
    "                 palette=[color_aao, color_seq])\n",
    "ax.set_ylabel('Energy Score')\n",
    "ax.set_xlim([0, 50])\n",
    "ax.set_xlabel('Noise std [% of model std]')\n",
    "leg = plt.legend(fontsize='small', title_fontsize='10')\n",
    "\n",
    "# change the line width for the legend\n",
    "for line in leg.get_lines():\n",
    "    line.set_linewidth(6.0)\n",
    "    \n",
    "plt.savefig(os.path.join(plots_folder, 'scores_ES_evolution'), bbox_inches='tight', dpi=200)"
   ]
  },
  {
   "cell_type": "code",
   "execution_count": null,
   "id": "09c7bd9a-0ef3-46b2-ba24-290def7803a8",
   "metadata": {},
   "outputs": [],
   "source": [
    "plt.figure(figsize=(10,6))\n",
    "ax = sns.lineplot(data=df_evolution_melted.loc[(df_evolution_melted['metric'] == 'RE') & (df_evolution_melted['experiment'] != 'True covariance')], x=\"data std\", y=\"loss\",\n",
    "                  hue='experiment',\n",
    "                 palette=[color_aao, color_seq])\n",
    "ax.set_ylabel('RE Skill Score')\n",
    "ax.set_xlim([0, 50])\n",
    "ax.set_xlabel('Noise std [% of model std]')\n",
    "leg = plt.legend(fontsize='small', title_fontsize='10')\n",
    "\n",
    "# change the line width for the legend\n",
    "for line in leg.get_lines():\n",
    "    line.set_linewidth(6.0)\n",
    "    \n",
    "plt.savefig(os.path.join(plots_folder, 'scores_RE_evolution'), bbox_inches='tight', dpi=200)"
   ]
  },
  {
   "cell_type": "markdown",
   "id": "9365c327-48da-453d-bc31-1da7a1555368",
   "metadata": {},
   "source": [
    "## Plot spatial situation."
   ]
  },
  {
   "cell_type": "code",
   "execution_count": null,
   "id": "babf29ee-76c4-4e8f-9ea2-9c67956d96d4",
   "metadata": {},
   "outputs": [],
   "source": [
    "results_folder_spat = \"/home/cedric/PHD/Dev/DIESEL/reporting/toy_example/results_paper/synthetic/\"\n",
    "\n",
    "rep = 0\n",
    "\n",
    "ground_truth = np.load(os.path.join(results_folder_spat, \"ground_truth_{}.npy\".format(rep)))\n",
    "data_inds = np.load(os.path.join(results_folder_spat, \"data_inds_{}.npy\".format(rep)))\n",
    "\n",
    "mean = np.load(os.path.join(results_folder_spat, \"mean_{}.npy\".format(rep)))\n",
    "ensemble = np.load(os.path.join(results_folder_spat, \"ensemble_{}.npy\".format(rep)))\n",
    "\n",
    "mean_updated_aao_loc = np.load(os.path.join(results_folder_spat, \"mean_updated_aao_loc_{}.npy\".format(rep))).reshape(-1)\n",
    "ensemble_updated_aao_loc = np.load(os.path.join(results_folder_spat, \"ensemble_updated_aao_loc_{}.npy\".format(rep)))\n",
    "\n",
    "mean_updated_aao_truecov = np.load(os.path.join(results_folder_spat, \"mean_updated_aao_truecov_{}.npy\".format(rep))).reshape(-1)\n",
    "ensemble_updated_aao_truecov = np.load(os.path.join(results_folder_spat, \"ensemble_updated_aao_truecov_{}.npy\".format(rep)))\n",
    "\n",
    "mean_updated_seq_loc = np.load(os.path.join(results_folder_spat, \"mean_updated_seq_loc_{}.npy\".format(rep))).reshape(-1)\n",
    "ensemble_updated_seq_loc = np.load(os.path.join(results_folder_spat, \"ensemble_updated_seq_loc_{}.npy\".format(rep)))"
   ]
  },
  {
   "cell_type": "code",
   "execution_count": null,
   "id": "244ab785-5289-4051-9e7c-b7ef3bb09877",
   "metadata": {},
   "outputs": [],
   "source": [
    "# Build a square grid with 80^2 elements.\n",
    "grid = ds.gridding.SquareGrid(n_pts_1d=80)\n",
    "grid_pts = grid.grid_pts"
   ]
  },
  {
   "cell_type": "code",
   "execution_count": null,
   "id": "73834ccf-4c8b-4d2e-9dc0-60d6cc3653c9",
   "metadata": {},
   "outputs": [],
   "source": [
    "cm = 1/2.54  # centimeters in inches\n",
    "\n",
    "spat_cmap = 'RdBu_r'\n",
    "# spat_cmap = 'rocket'\n",
    "\n",
    "# Prior\n",
    "fig, ax = plt.subplots(1, 1, figsize=(10*cm, 10*cm))\n",
    "grid.plot_vals(ground_truth, ax, vmin=-3, vmax=3, cmap=spat_cmap, colorbar=True, fig=fig)\n",
    "plt.savefig(os.path.join(plots_folder, 'ground_truth_synthetic.png'), bbox_inches='tight', dpi=200)\n",
    "\n",
    "fig, ax = plt.subplots(1, 1, figsize=(10*cm, 10*cm))\n",
    "grid.plot_vals(mean, ax, vmin=-3, vmax=3, cmap=spat_cmap, colorbar=False, fig=fig)\n",
    "\n",
    "# Add location of data point.\n",
    "data_coords = grid.grid_pts[data_inds, :].compute()\n",
    "ax.scatter(data_coords[:, 0], data_coords[:, 1], s=1, color='black')\n",
    "\n",
    "plt.savefig(os.path.join(plots_folder, 'mean_synthetic.png'), bbox_inches='tight', dpi=200)\n",
    "print(compute_RMSE(mean, ground_truth))\n",
    "\n",
    "fig, ax = plt.subplots(1, 1, figsize=(10*cm, 10*cm))\n",
    "grid.plot_vals(ensemble[0, :], ax, vmin=-3, vmax=3, cmap=spat_cmap, colorbar=False, fig=fig)\n",
    "plt.savefig(os.path.join(plots_folder, 'ensemble_0_synthetic.png'), bbox_inches='tight', dpi=200)\n",
    "print(compute_RMSE(ensemble[0, :], ground_truth))\n",
    "\n",
    "fig, ax = plt.subplots(1, 1, figsize=(10*cm, 10*cm))\n",
    "grid.plot_vals(ensemble[1, :], ax, vmin=-3, vmax=3, cmap=spat_cmap, colorbar=False, fig=fig)\n",
    "plt.savefig(os.path.join(plots_folder, 'ensemble_1_synthetic.png'), bbox_inches='tight', dpi=200)\n",
    "print(compute_RMSE(ensemble[1, :], ground_truth))"
   ]
  },
  {
   "cell_type": "code",
   "execution_count": null,
   "id": "0dc11d0e-88d7-4fba-b0cd-8cb02ea6dc5c",
   "metadata": {},
   "outputs": [],
   "source": [
    "# All at once.\n",
    "fig, ax = plt.subplots(1, 1, figsize=(10*cm, 10*cm))\n",
    "grid.plot_vals(mean_updated_aao_loc, ax, vmin=-3, vmax=3, cmap='RdBu_r', colorbar=False, fig=fig)\n",
    "plt.savefig(os.path.join(plots_folder, 'mean_updated_aao_loc_synthetic.png'), bbox_inches='tight', dpi=200)\n",
    "print(compute_RMSE(mean_updated_aao_loc, ground_truth))\n",
    "\n",
    "fig, ax = plt.subplots(1, 1, figsize=(10*cm, 10*cm))\n",
    "grid.plot_vals(ensemble_updated_aao_loc[0, :], ax, vmin=-3, vmax=3, cmap='RdBu_r', colorbar=False, fig=fig)\n",
    "plt.savefig(os.path.join(plots_folder, 'ensemble_updated_aao_loc_0_synthetic.png'), bbox_inches='tight', dpi=200)\n",
    "print(compute_RMSE(ensemble_updated_aao_loc[0, :], ground_truth))\n",
    "\n",
    "fig, ax = plt.subplots(1, 1, figsize=(10*cm, 10*cm))\n",
    "grid.plot_vals(ensemble_updated_aao_loc[1, :], ax, vmin=-3, vmax=3, cmap='RdBu_r', colorbar=False, fig=fig)\n",
    "plt.savefig(os.path.join(plots_folder, 'ensemble_updated_aao_loc_1_synthetic.png'), bbox_inches='tight', dpi=200)\n",
    "print(compute_RMSE(ensemble_updated_aao_loc[1, :], ground_truth))"
   ]
  },
  {
   "cell_type": "code",
   "execution_count": null,
   "id": "d3c5cce3-7389-43d3-9019-73acf5800493",
   "metadata": {},
   "outputs": [],
   "source": [
    "# Sequential.\n",
    "fig, ax = plt.subplots(1, 1, figsize=(10*cm, 10*cm))\n",
    "grid.plot_vals(mean_updated_seq_loc, ax, vmin=-3, vmax=3, cmap='RdBu_r', colorbar=False, fig=fig)\n",
    "plt.savefig(os.path.join(plots_folder, 'mean_updated_seq_loc_synthetic.png'), bbox_inches='tight', dpi=200)\n",
    "print(compute_RMSE(mean_updated_seq_loc, ground_truth))\n",
    "\n",
    "fig, ax = plt.subplots(1, 1, figsize=(10*cm, 10*cm))\n",
    "grid.plot_vals(ensemble_updated_seq_loc[0, :], ax, vmin=-3, vmax=3, cmap='RdBu_r', colorbar=False, fig=fig)\n",
    "plt.savefig(os.path.join(plots_folder, 'ensemble_updated_seq_loc_0_synthetic.png'), bbox_inches='tight', dpi=200)\n",
    "print(compute_RMSE(ensemble_updated_seq_loc[0, :], ground_truth))\n",
    "\n",
    "fig, ax = plt.subplots(1, 1, figsize=(10*cm, 10*cm))\n",
    "grid.plot_vals(ensemble_updated_seq_loc[1, :], ax, vmin=-3, vmax=3, cmap='RdBu_r', colorbar=False, fig=fig)\n",
    "plt.savefig(os.path.join(plots_folder, 'ensemble_updated_seq_loc_1_synthetic.png'), bbox_inches='tight', dpi=200)\n",
    "print(compute_RMSE(ensemble_updated_seq_loc[1, :], ground_truth))"
   ]
  }
 ],
 "metadata": {
  "kernelspec": {
   "display_name": "Python 3 (ipykernel)",
   "language": "python",
   "name": "python3"
  },
  "language_info": {
   "codemirror_mode": {
    "name": "ipython",
    "version": 3
   },
   "file_extension": ".py",
   "mimetype": "text/x-python",
   "name": "python",
   "nbconvert_exporter": "python",
   "pygments_lexer": "ipython3",
   "version": "3.8.11"
  }
 },
 "nbformat": 4,
 "nbformat_minor": 5
}
