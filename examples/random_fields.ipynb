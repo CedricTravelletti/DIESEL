{
 "cells": [
  {
   "cell_type": "markdown",
   "metadata": {},
   "source": [
    "# Diesel Random Fields Module\n",
    "\n",
    "This module provides capabilities for creating and sampling from- random fields on a large scale. \n",
    "Its core functionality is handling very large covariance matrices through lazy Dask arrays. \n",
    "\n",
    "Key functionalities include:\n",
    "- **creating large covariance matrices from standard kernels** (Gaussian, Matérn, ...)\n",
    "- **sampling random fields at scale**\n",
    "\n",
    "This notebook demonstrates core capabilities of this module."
   ]
  },
  {
   "cell_type": "code",
   "execution_count": null,
   "metadata": {},
   "outputs": [],
   "source": [
    "import xarray as xr\n",
    "import dask.array as da\n",
    "import numpy as np\n",
    "import pandas as pd\n",
    "import matplotlib.pyplot as plt\n",
    "from diesel.random_fields import Matern32\n",
    "from diesel.gridding import unflatten_to_grid, flatten_grid"
   ]
  },
  {
   "cell_type": "markdown",
   "metadata": {},
   "source": [
    "## 1. Create a synthetic dataset\n",
    "In `DIESEL`, large datasets of geographical data are handled by [Xarray](https://xarray.dev/). In this example, we \n",
    "create an example gridded dataset on a regular rectangular latitude-longitude grid. For the sake of generality, we also include a time \n",
    "dimension."
   ]
  },
  {
   "cell_type": "code",
   "execution_count": null,
   "metadata": {},
   "outputs": [],
   "source": [
    "lat = np.linspace(-90, 90, 50)\n",
    "lon = np.linspace(-180, 180, 100)\n",
    "time = np.arange(10)  # 10 time steps\n",
    "\n",
    "grid = xr.Dataset(\n",
    "    {\n",
    "        \"latitude\": (\"latitude\", lat),\n",
    "        \"longitude\": (\"longitude\", lon),\n",
    "        \"time\": (\"time\", time),\n",
    "    }\n",
    ")\n",
    "grid"
   ]
  },
  {
   "cell_type": "markdown",
   "metadata": {},
   "source": [
    "Since all data assimilation algorithms make use of **flattened** vector data, `DIESEL` provides functionalities for getting flat coordinates \n",
    "vector out of a grid. Users need to specify the coordinates along which to flatten."
   ]
  },
  {
   "cell_type": "code",
   "execution_count": null,
   "metadata": {},
   "outputs": [],
   "source": [
    "points = flatten_grid(grid, [\"latitude\", \"longitude\"])\n",
    "points"
   ]
  },
  {
   "cell_type": "markdown",
   "metadata": {},
   "source": [
    "## 2. Creating a Covariance kernel\n",
    "Covariance kernel objects can be created by specifying variance $\\sigma^2$ and lengthscales $\\vec{\\lambda}$. For Matérn kernel of degree $\\nu$ the convention is \n",
    "$$\n",
    "k(\\vec{x}, \\vec{y}) = \\sigma^2 \\frac{2^{1-\\nu}}{\\Gamma(\\nu)} \n",
    "\\left(\n",
    "    1\\nu \\sum_i (\\frac{x_i - y_i}{\\lambda_i})^2\n",
    "\\right)^{\\nu/1}\n",
    "\\mathcal{K}_{\\nu}\n",
    "\\left(\n",
    " \\left(\n",
    "    1\\nu \\sum_i (\\frac{x_i - y_i}{\\lambda_i})^2\n",
    "\\right)^{\\nu}   \n",
    "\\right)\n",
    "$$"
   ]
  },
  {
   "cell_type": "markdown",
   "metadata": {},
   "source": []
  },
  {
   "cell_type": "code",
   "execution_count": 4,
   "metadata": {},
   "outputs": [],
   "source": [
    "# Initialize the Matérn 3/2 kernel\n",
    "matern32 = Matern32(sigma=2.0, l=[30, 30])\n",
    "\n",
    "# Compute the covariance matrix\n",
    "cov_matrix = matern32(points, points)\n",
    "\n",
    "# Trigger computation (optional)\n",
    "result = cov_matrix.compute()"
   ]
  },
  {
   "cell_type": "code",
   "execution_count": null,
   "metadata": {},
   "outputs": [],
   "source": [
    "mean = np.zeros(result.shape[0])  # Mean vector of zeros\n",
    "samples = np.random.multivariate_normal(mean, result, size=1)  # Generate one sample\n",
    "samples"
   ]
  },
  {
   "cell_type": "code",
   "execution_count": null,
   "metadata": {},
   "outputs": [],
   "source": [
    "sample_gridded = unflatten_to_grid(\n",
    "    samples.reshape(-1), grid, active_dims=[\"latitude\", \"longitude\"]\n",
    ")\n",
    "sample_gridded.plot()"
   ]
  },
  {
   "cell_type": "code",
   "execution_count": null,
   "metadata": {},
   "outputs": [],
   "source": [
    "import cartopy.crs as ccrs\n",
    "\n",
    "\n",
    "p = sample_gridded.plot(\n",
    "    subplot_kws=dict(projection=ccrs.Orthographic(-80, 35), facecolor=\"gray\"),\n",
    "    transform=ccrs.PlateCarree(),\n",
    "    cbar_kwargs={\"label\": \"temperature anomaly (°C)\"},\n",
    ")\n",
    "\n",
    "p.axes.set_global()\n",
    "\n",
    "p.axes.coastlines()"
   ]
  }
 ],
 "metadata": {
  "kernelspec": {
   "display_name": ".venv",
   "language": "python",
   "name": "python3"
  },
  "language_info": {
   "codemirror_mode": {
    "name": "ipython",
    "version": 3
   },
   "file_extension": ".py",
   "mimetype": "text/x-python",
   "name": "python",
   "nbconvert_exporter": "python",
   "pygments_lexer": "ipython3",
   "version": "3.12.3"
  }
 },
 "nbformat": 4,
 "nbformat_minor": 2
}
